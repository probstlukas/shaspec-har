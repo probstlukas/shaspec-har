{
 "cells": [
  {
   "cell_type": "code",
   "execution_count": 5,
   "metadata": {},
   "outputs": [],
   "source": [
    "import os\n",
    "import numpy as np\n",
    "import pandas as pd\n",
    "\n",
    "root_path = \"../Run_logs/logs/\"\n",
    "path_list = os.listdir(root_path)\n",
    "\n",
    "def parse_all_info(path_name):\n",
    "    model_index = path_name.find(\"model_\")\n",
    "    data_index = path_name.find(\"data_\")\n",
    "    seed_index = path_name.find(\"seed_\")\n",
    "    miss_rate_index = path_name.find(\"miss_rate_\")\n",
    "    ablate_shared_encoder_index = path_name.find(\"ablate_shared_encoder\")\n",
    "    ablate_missing_modality_features_index = path_name.find(\"ablate_missing_modality_features\")\n",
    "    \n",
    "    model_name = path_name[model_index + 6 : data_index - 1]\n",
    "    data_name = path_name[data_index + 5 : seed_index - 1]\n",
    "    seed_end_index = path_name.find(\"_\", seed_index + 5)\n",
    "    seed = int(path_name[seed_index + 5:seed_end_index])\n",
    "    miss_rate = float(path_name[miss_rate_index + 10 : miss_rate_index + 13])\n",
    "    \n",
    "    # Ablation is True if the feature is found, False otherwise\n",
    "    ablate_shared_encoder = ablate_shared_encoder_index != -1\n",
    "    ablate_missing_modality_features = ablate_missing_modality_features_index != -1\n",
    "    \n",
    "    return model_name, data_name, seed, miss_rate, ablate_shared_encoder, ablate_missing_modality_features\n",
    "\n",
    "\n",
    "data_list = [\"dsads\", \"realdisp\"]\n",
    "seed_list = [1, 42]\n",
    "\n",
    "def extract_final_scores(path):\n",
    "    \"\"\"Extracts mean and standard deviation of scores from the score.txt file.\"\"\"\n",
    "    with open(path) as f:\n",
    "        lines = f.readlines()\n",
    "\n",
    "    # Initialize dictionaries to hold mean and std values\n",
    "    mean_scores = {}\n",
    "    std_scores = {}\n",
    "    for line in lines:\n",
    "        if line.startswith(\"MEAN\"):\n",
    "            parts = line.split(\",\")\n",
    "            for part in parts:\n",
    "                key, value = part.split(\":\")\n",
    "                key = key.strip().split(\" \")[-1]  # Get the last word as the key\n",
    "                mean_scores[key] = float(value.strip())\n",
    "        elif line.startswith(\"STD\"):\n",
    "            parts = line.split(\",\")\n",
    "            for part in parts:\n",
    "                key, value = part.split(\":\")\n",
    "                key = key.strip().split(\" \")[-1]\n",
    "                std_scores[key] = float(value.strip())\n",
    "    \n",
    "    return mean_scores, std_scores\n",
    "\n",
    "mean_scores, std_scores = extract_final_scores(TODO)\n",
    "print(mean_scores)"
   ]
  },
  {
   "cell_type": "code",
   "execution_count": 16,
   "metadata": {},
   "outputs": [
    {
     "name": "stdout",
     "output_type": "stream",
     "text": [
      "{'Loss': 0.6892576, 'Accuracy': 0.84375, 'F1': 0.84375}\n"
     ]
    }
   ],
   "source": []
  }
 ],
 "metadata": {
  "kernelspec": {
   "display_name": ".venv",
   "language": "python",
   "name": "python3"
  },
  "language_info": {
   "codemirror_mode": {
    "name": "ipython",
    "version": 3
   },
   "file_extension": ".py",
   "mimetype": "text/x-python",
   "name": "python",
   "nbconvert_exporter": "python",
   "pygments_lexer": "ipython3",
   "version": "3.10.12"
  }
 },
 "nbformat": 4,
 "nbformat_minor": 2
}
