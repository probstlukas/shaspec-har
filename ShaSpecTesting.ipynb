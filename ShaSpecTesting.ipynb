{
 "cells": [
  {
   "cell_type": "code",
   "execution_count": 1,
   "metadata": {},
   "outputs": [
    {
     "name": "stdout",
     "output_type": "stream",
     "text": [
      "torch.Size([1, 1, 128, 18])\n",
      "torch.Size([1, 32, 62, 18])\n",
      "torch.Size([1, 32, 29, 18])\n",
      "torch.Size([1, 32, 13, 18])\n",
      "torch.Size([1, 32, 5, 18])\n",
      "size  torch.Size([1, 32, 18, 1])\n",
      "torch.Size([1, 32, 18, 1])\n",
      "size  torch.Size([1, 32, 18, 1])\n",
      "torch.Size([1, 32, 18, 1])\n",
      "size  torch.Size([1, 32, 18, 1])\n",
      "torch.Size([1, 32, 18, 1])\n",
      "size  torch.Size([1, 32, 18, 1])\n",
      "torch.Size([1, 32, 18, 1])\n",
      "size  torch.Size([1, 32, 18, 1])\n",
      "torch.Size([1, 32, 18, 1])\n",
      "After refined: torch.Size([1, 32, 18, 5])\n",
      "torch.Size([1, 18, 64])\n"
     ]
    }
   ],
   "source": [
    "from models.ShaSpec import SpecificEncoder\n",
    "import torch\n",
    "\n",
    "# Assuming 'input_shape' is a tuple that SpecificEncoder expects, such as (batch_size, filter_num, sequence_length, num_of_sensor_channels)\n",
    "input_shape = (1, 1, 128, 18)  # Example shape\n",
    "\n",
    "# Initialize the model with correct parameters\n",
    "# Replace the 'filter_num', 'filter_size', 'activation', and 'sa_div' with actual values\n",
    "model = SpecificEncoder(input_shape, filter_num=32, filter_size=5, activation='ReLU', sa_div=8)\n",
    "\n",
    "# Initialize a dummy input tensor. The shape should match the 'input_shape' parameter of SpecificEncoder\n",
    "# The dummy data should have the same dimensions that your model expects\n",
    "x = torch.randn(input_shape)\n",
    "\n",
    "# Pass the input tensor through the model\n",
    "output = model(x)\n",
    "\n",
    "# Print the output shape\n",
    "print(output.shape)"
   ]
  },
  {
   "cell_type": "code",
   "execution_count": null,
   "metadata": {},
   "outputs": [],
   "source": [
    "für jeden sensor chanel 64 features \n"
   ]
  }
 ],
 "metadata": {
  "kernelspec": {
   "display_name": ".venv",
   "language": "python",
   "name": "python3"
  },
  "language_info": {
   "codemirror_mode": {
    "name": "ipython",
    "version": 3
   },
   "file_extension": ".py",
   "mimetype": "text/x-python",
   "name": "python",
   "nbconvert_exporter": "python",
   "pygments_lexer": "ipython3",
   "version": "3.10.12"
  }
 },
 "nbformat": 4,
 "nbformat_minor": 2
}
