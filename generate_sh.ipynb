{
 "cells": [
  {
   "cell_type": "code",
   "execution_count": 1,
   "metadata": {},
   "outputs": [],
   "source": [
    "\"\"\"\n",
    "Generate template.sh file for running experiments with SLURM (job scheduler).\n",
    "\"\"\"\n",
    "\n",
    "import os\n",
    "\n",
    "# Remove the existing template file if it exists\n",
    "if os.path.exists(\"template.sh\"):\n",
    "    os.remove(\"template.sh\")\n",
    "\n",
    "data_list = [\"dsads\", \"realdisp\"]\n",
    "model_list = [\"shaspec\"]\n",
    "seed_list = [1, 42]\n",
    "miss_rate_list = {\n",
    "    \"dsads\": [0.0, 0.2, 0.4, 0.6],\n",
    "    \"realdisp\": [0.0, 0.1, 0.3, 0.5, 0.7]\n",
    "}\n",
    "# Additional options\n",
    "options_list = [\n",
    "    \"\",  # No additional option\n",
    "    \"--ablate-shared-encoder\",\n",
    "    \"--ablate-missing-modality-features\"\n",
    "]\n",
    "\n",
    "with open(\"template.sh\", 'a') as f:\n",
    "    for data in data_list:\n",
    "        for model in model_list:\n",
    "            for seed in seed_list:\n",
    "                for miss_rate in miss_rate_list[data]:\n",
    "                    for option in options_list:\n",
    "                        f.write(f\"sbatch main.py --data-name {data} --shuffle --miss-rate {miss_rate}  --model-type {model} --seed {seed} --root-path ../../datasets {option}\\n\")\n"
   ]
  }
 ],
 "metadata": {
  "kernelspec": {
   "display_name": ".venv",
   "language": "python",
   "name": "python3"
  },
  "language_info": {
   "codemirror_mode": {
    "name": "ipython",
    "version": 3
   },
   "file_extension": ".py",
   "mimetype": "text/x-python",
   "name": "python",
   "nbconvert_exporter": "python",
   "pygments_lexer": "ipython3",
   "version": "3.10.12"
  }
 },
 "nbformat": 4,
 "nbformat_minor": 2
}
