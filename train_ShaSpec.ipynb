{
 "cells": [
  {
   "cell_type": "code",
   "execution_count": 1,
   "metadata": {},
   "outputs": [],
   "source": [
    "import warnings\n",
    "warnings.filterwarnings(\"ignore\")\n",
    "\n",
    "from experiment import Exp\n",
    "\n",
    "import torch\n",
    "import yaml\n",
    "import os"
   ]
  },
  {
   "cell_type": "code",
   "execution_count": 2,
   "metadata": {},
   "outputs": [],
   "source": [
    "### Parameter for training\n",
    "\n",
    "class dotdict(dict):\n",
    "    \"\"\"dot.notation access to dictionary attributes\"\"\"\n",
    "    __getattr__ = dict.get\n",
    "    __setattr__ = dict.__setitem__\n",
    "    __delattr__ = dict.__delitem__\n",
    "\n",
    "args = dotdict()   \n",
    "\n",
    "args.to_save_path     = \"../Run_logs\"           \n",
    "args.window_save_path = \"../Sliding_window\"\n",
    "args.root_path        = \"../datasets\"\n",
    "\n",
    "args.drop_transition  = False\n",
    "# Nomalization of the data, depends on dataset!\n",
    "args.datanorm_type    = \"standardization\" # None ,\"standardization\", \"minmax\"\n",
    "\n",
    "args.batch_size       = 32 # Reduce if not enough graphic memory\n",
    "args.shuffle          = True # Give NN more variety to learn\n",
    "args.drop_last        = True # Drop last batch if smaller than batch size\n",
    "args.train_vali_quote = 0.90 # 90% training, 10% validation                     \n",
    "\n",
    "# Training setting \n",
    "args.train_epochs            = 60\n",
    "\n",
    "# According to ShaSpec paper\n",
    "args.learning_rate           = 0.001 # 10^(-3)\n",
    "args.learning_rate_patience  = 20 # Reduce learning rate every 20 epochs\n",
    "args.learning_rate_factor    = 0.1 # Reduce learning rate by 10%\n",
    "\n",
    "args.weight_decay            = 0.01 # 10^(-2)\n",
    "\n",
    "args.early_stop_patience     = 15 # Stop after 15 epochs without improvement\n",
    "\n",
    "args.use_gpu                 = True if torch.cuda.is_available() else False\n",
    "args.gpu                     = 0 # Use first GPU\n",
    "args.use_multi_gpu           = False # Use multiple GPUs\n",
    "\n",
    "args.optimizer               = \"Adam\"\n",
    "args.criterion               = \"CrossEntropy\""
   ]
  },
  {
   "cell_type": "code",
   "execution_count": 3,
   "metadata": {},
   "outputs": [],
   "source": [
    "# Get content of folder args.window_save_path\n",
    "files = os.listdir(args.window_save_path)"
   ]
  },
  {
   "cell_type": "code",
   "execution_count": 4,
   "metadata": {},
   "outputs": [],
   "source": [
    "### Parameter for data\n",
    "\n",
    "args.seed                             = 999 # Seed for reproducibility\n",
    "\n",
    "args.data_name                        = \"dsads\"\n",
    "\n",
    "# Augmentation difference\n",
    "args.difference          =  True \n",
    "\n",
    "# Augmentation filtering\n",
    "args.filtering           =  True\n",
    "\n",
    "args.pos_select       = None\n",
    "args.sensor_select    = None\n",
    "\n",
    "args.exp_mode            = \"LOCV\"\n",
    "    \n",
    "config_file = open('configs/data.yaml', mode='r')\n",
    "data_config = yaml.load(config_file, Loader=yaml.FullLoader)\n",
    "config = data_config[args.data_name]\n",
    "\n",
    "args.root_path       = os.path.join(args.root_path,config[\"filename\"])\n",
    "args.sampling_freq   = config[\"sampling_freq\"]\n",
    "args.num_classes     =  config[\"num_classes\"]\n",
    "args.num_modalities  =  config[\"num_modalities\"]\n",
    "args.miss_rates       =  config[\"miss_rates\"]\n",
    "window_seconds       = config[\"window_seconds\"]\n",
    "args.windowsize      =   int(window_seconds * args.sampling_freq) \n",
    "args.input_length    =  args.windowsize\n",
    "# Input information\n",
    "# args.c_in            =  config[\"num_channels\"]\n",
    "# For ShaSpec we want the number of channels per modality\n",
    "args.c_in    =  config[\"num_channels\"] // args.num_modalities\n",
    "\n",
    "args.f_in            =  1\n",
    "            "
   ]
  },
  {
   "cell_type": "code",
   "execution_count": 5,
   "metadata": {},
   "outputs": [
    {
     "name": "stdout",
     "output_type": "stream",
     "text": [
      "Use CPU\n",
      "================  ShaSpec Model Configuration  ================\n",
      "Number of total modalities:  5\n",
      "Selected miss rate:  0.6\n",
      "Number of available modalities:  2\n",
      "Ablate shared encoder:  True\n",
      "Ablate missing modality features:  False\n",
      "Build the ShaSpec model!\n",
      "Done!\n",
      "Parameter: 327061\n",
      "Set the seed as:  999\n"
     ]
    }
   ],
   "source": [
    "### Parameter for the model\n",
    "\n",
    "args.model_type = \"shaspec\"\n",
    "\n",
    "args.miss_rate = args.miss_rates[3]\n",
    "\n",
    "args.activation = \"ReLU\"\n",
    "args.shared_encoder_type = \"concatenated\"\n",
    "\n",
    "# Ablation studies\n",
    "args.ablate_shared_encoder = True\n",
    "args.ablate_missing_modality_features = False\n",
    "\n",
    "exp = Exp(args)"
   ]
  },
  {
   "cell_type": "code",
   "execution_count": 6,
   "metadata": {},
   "outputs": [
    {
     "data": {
      "text/plain": [
       "model_builder(\n",
       "  (model): ShaSpec(\n",
       "    (specific_encoders): ModuleList(\n",
       "      (0-1): 2 x SpecificEncoder(\n",
       "        (be): BaseEncoder(\n",
       "          (conv_layers): Sequential(\n",
       "            (0): Conv2d(1, 64, kernel_size=(5, 1), stride=(2, 1))\n",
       "            (1): ReLU()\n",
       "            (2): Conv2d(64, 64, kernel_size=(5, 1), stride=(2, 1))\n",
       "            (3): ReLU()\n",
       "            (4): Conv2d(64, 64, kernel_size=(5, 1), stride=(2, 1))\n",
       "            (5): ReLU()\n",
       "            (6): Conv2d(64, 64, kernel_size=(5, 1), stride=(2, 1))\n",
       "            (7): ReLU()\n",
       "          )\n",
       "          (sa): SelfAttention(\n",
       "            (query): Conv1d(64, 8, kernel_size=(1,), stride=(1,), bias=False)\n",
       "            (key): Conv1d(64, 8, kernel_size=(1,), stride=(1,), bias=False)\n",
       "            (value): Conv1d(64, 64, kernel_size=(1,), stride=(1,), bias=False)\n",
       "          )\n",
       "          (fc_fusion): Linear(in_features=320, out_features=128, bias=True)\n",
       "        )\n",
       "      )\n",
       "    )\n",
       "    (decoder): Decoder(\n",
       "      (flatten): Flatten(start_dim=1, end_dim=-1)\n",
       "      (fc_layer): Linear(in_features=5760, out_features=19, bias=True)\n",
       "    )\n",
       "  )\n",
       ")"
      ]
     },
     "execution_count": 6,
     "metadata": {},
     "output_type": "execute_result"
    }
   ],
   "source": [
    "exp.model"
   ]
  },
  {
   "cell_type": "code",
   "execution_count": 7,
   "metadata": {},
   "outputs": [
    {
     "name": "stdout",
     "output_type": "stream",
     "text": [
      "================  model_shaspec_data_dsads_seed_999_miss_rate_0.6_ablate_shared_encoder_True_ablate_missing_modality_features_False  ================\n",
      "================  Load all the data  ================\n"
     ]
    },
    {
     "ename": "FileNotFoundError",
     "evalue": "[Errno 2] No such file or directory: '../datasets/DSADS_Dataset'",
     "output_type": "error",
     "traceback": [
      "\u001b[0;31m---------------------------------------------------------------------------\u001b[0m",
      "\u001b[0;31mFileNotFoundError\u001b[0m                         Traceback (most recent call last)",
      "Cell \u001b[0;32mIn[7], line 1\u001b[0m\n\u001b[0;32m----> 1\u001b[0m \u001b[43mexp\u001b[49m\u001b[38;5;241;43m.\u001b[39;49m\u001b[43mtrain\u001b[49m\u001b[43m(\u001b[49m\u001b[43m)\u001b[49m\n",
      "File \u001b[0;32m~/Documents/Studium/Bachelor Informatik/2023 WS/Bachelorarbeit/shaspec-har/experiment.py:226\u001b[0m, in \u001b[0;36mExp.train\u001b[0;34m(self)\u001b[0m\n\u001b[1;32m    223\u001b[0m np\u001b[38;5;241m.\u001b[39mrandom\u001b[38;5;241m.\u001b[39mseed(\u001b[38;5;28mself\u001b[39m\u001b[38;5;241m.\u001b[39margs\u001b[38;5;241m.\u001b[39mseed)\n\u001b[1;32m    225\u001b[0m \u001b[38;5;66;03m# Load the data\u001b[39;00m\n\u001b[0;32m--> 226\u001b[0m dataset \u001b[38;5;241m=\u001b[39m \u001b[43mdata_dict\u001b[49m\u001b[43m[\u001b[49m\u001b[38;5;28;43mself\u001b[39;49m\u001b[38;5;241;43m.\u001b[39;49m\u001b[43margs\u001b[49m\u001b[38;5;241;43m.\u001b[39;49m\u001b[43mdata_name\u001b[49m\u001b[43m]\u001b[49m\u001b[43m(\u001b[49m\u001b[38;5;28;43mself\u001b[39;49m\u001b[38;5;241;43m.\u001b[39;49m\u001b[43margs\u001b[49m\u001b[43m)\u001b[49m\n\u001b[1;32m    228\u001b[0m \u001b[38;5;28mprint\u001b[39m(\u001b[38;5;124m\"\u001b[39m\u001b[38;5;124m=\u001b[39m\u001b[38;5;124m\"\u001b[39m \u001b[38;5;241m*\u001b[39m \u001b[38;5;241m16\u001b[39m, \u001b[38;5;124mf\u001b[39m\u001b[38;5;124m\"\u001b[39m\u001b[38;5;124m \u001b[39m\u001b[38;5;132;01m{\u001b[39;00mdataset\u001b[38;5;241m.\u001b[39mexp_mode\u001b[38;5;132;01m}\u001b[39;00m\u001b[38;5;124m Mode \u001b[39m\u001b[38;5;124m\"\u001b[39m, \u001b[38;5;124m\"\u001b[39m\u001b[38;5;124m=\u001b[39m\u001b[38;5;124m\"\u001b[39m \u001b[38;5;241m*\u001b[39m \u001b[38;5;241m16\u001b[39m)\n\u001b[1;32m    229\u001b[0m \u001b[38;5;28mprint\u001b[39m(\u001b[38;5;124m\"\u001b[39m\u001b[38;5;124m=\u001b[39m\u001b[38;5;124m\"\u001b[39m \u001b[38;5;241m*\u001b[39m \u001b[38;5;241m16\u001b[39m, \u001b[38;5;124mf\u001b[39m\u001b[38;5;124m\"\u001b[39m\u001b[38;5;124m \u001b[39m\u001b[38;5;132;01m{\u001b[39;00mdataset\u001b[38;5;241m.\u001b[39mnum_of_cv\u001b[38;5;132;01m}\u001b[39;00m\u001b[38;5;124m CV folds in total \u001b[39m\u001b[38;5;124m\"\u001b[39m, \u001b[38;5;124m\"\u001b[39m\u001b[38;5;124m=\u001b[39m\u001b[38;5;124m\"\u001b[39m \u001b[38;5;241m*\u001b[39m \u001b[38;5;241m16\u001b[39m)\n",
      "File \u001b[0;32m~/Documents/Studium/Bachelor Informatik/2023 WS/Bachelorarbeit/shaspec-har/dataloaders/dataloader_DSADS_har.py:107\u001b[0m, in \u001b[0;36mDSADS_HAR_DATA.__init__\u001b[0;34m(self, args)\u001b[0m\n\u001b[1;32m    104\u001b[0m \u001b[38;5;28mself\u001b[39m\u001b[38;5;241m.\u001b[39mdrop_activities \u001b[38;5;241m=\u001b[39m [\u001b[38;5;28mself\u001b[39m\u001b[38;5;241m.\u001b[39mlabelToId[i] \u001b[38;5;28;01mfor\u001b[39;00m i \u001b[38;5;129;01min\u001b[39;00m \u001b[38;5;28mself\u001b[39m\u001b[38;5;241m.\u001b[39mdrop_activities]\n\u001b[1;32m    105\u001b[0m \u001b[38;5;28mself\u001b[39m\u001b[38;5;241m.\u001b[39mno_drop_activites \u001b[38;5;241m=\u001b[39m [item \u001b[38;5;28;01mfor\u001b[39;00m item \u001b[38;5;129;01min\u001b[39;00m \u001b[38;5;28mself\u001b[39m\u001b[38;5;241m.\u001b[39mall_labels \u001b[38;5;28;01mif\u001b[39;00m item \u001b[38;5;129;01mnot\u001b[39;00m \u001b[38;5;129;01min\u001b[39;00m \u001b[38;5;28mself\u001b[39m\u001b[38;5;241m.\u001b[39mdrop_activities]\n\u001b[0;32m--> 107\u001b[0m \u001b[38;5;28;43msuper\u001b[39;49m\u001b[43m(\u001b[49m\u001b[43mDSADS_HAR_DATA\u001b[49m\u001b[43m,\u001b[49m\u001b[43m \u001b[49m\u001b[38;5;28;43mself\u001b[39;49m\u001b[43m)\u001b[49m\u001b[38;5;241;43m.\u001b[39;49m\u001b[38;5;21;43m__init__\u001b[39;49m\u001b[43m(\u001b[49m\u001b[43margs\u001b[49m\u001b[43m)\u001b[49m\n",
      "File \u001b[0;32m~/Documents/Studium/Bachelor Informatik/2023 WS/Bachelorarbeit/shaspec-har/dataloaders/dataloader_base.py:63\u001b[0m, in \u001b[0;36mBASE_DATA.__init__\u001b[0;34m(self, args)\u001b[0m\n\u001b[1;32m     60\u001b[0m \u001b[38;5;28mself\u001b[39m\u001b[38;5;241m.\u001b[39mdrop_transition        \u001b[38;5;241m=\u001b[39m args\u001b[38;5;241m.\u001b[39mdrop_transition\n\u001b[1;32m     62\u001b[0m \u001b[38;5;66;03m# ======================= Load the Data =================================\u001b[39;00m\n\u001b[0;32m---> 63\u001b[0m \u001b[38;5;28mself\u001b[39m\u001b[38;5;241m.\u001b[39mdata_x, \u001b[38;5;28mself\u001b[39m\u001b[38;5;241m.\u001b[39mdata_y \u001b[38;5;241m=\u001b[39m \u001b[38;5;28;43mself\u001b[39;49m\u001b[38;5;241;43m.\u001b[39;49m\u001b[43mload_all_the_data\u001b[49m\u001b[43m(\u001b[49m\u001b[38;5;28;43mself\u001b[39;49m\u001b[38;5;241;43m.\u001b[39;49m\u001b[43mroot_path\u001b[49m\u001b[43m)\u001b[49m\n\u001b[1;32m     64\u001b[0m \u001b[38;5;66;03m# data_x : sub_id, sensor_1, sensor_2,..., sensor_n , sub\u001b[39;00m\n\u001b[1;32m     65\u001b[0m \u001b[38;5;66;03m# data_y : activity_id   index:sub_id\u001b[39;00m\n\u001b[1;32m     66\u001b[0m \u001b[38;5;66;03m# update col_names\u001b[39;00m\n\u001b[1;32m     67\u001b[0m \u001b[38;5;28mself\u001b[39m\u001b[38;5;241m.\u001b[39mcol_names \u001b[38;5;241m=\u001b[39m \u001b[38;5;28mlist\u001b[39m(\u001b[38;5;28mself\u001b[39m\u001b[38;5;241m.\u001b[39mdata_x\u001b[38;5;241m.\u001b[39mcolumns)[\u001b[38;5;241m1\u001b[39m:\u001b[38;5;241m-\u001b[39m\u001b[38;5;241m1\u001b[39m]\n",
      "File \u001b[0;32m~/Documents/Studium/Bachelor Informatik/2023 WS/Bachelorarbeit/shaspec-har/dataloaders/dataloader_DSADS_har.py:115\u001b[0m, in \u001b[0;36mDSADS_HAR_DATA.load_all_the_data\u001b[0;34m(self, root_path)\u001b[0m\n\u001b[1;32m    111\u001b[0m \u001b[38;5;28mprint\u001b[39m(\u001b[38;5;124m\"\u001b[39m\u001b[38;5;124m=\u001b[39m\u001b[38;5;124m\"\u001b[39m \u001b[38;5;241m*\u001b[39m \u001b[38;5;241m16\u001b[39m, \u001b[38;5;124m\"\u001b[39m\u001b[38;5;124m Load all the data \u001b[39m\u001b[38;5;124m\"\u001b[39m, \u001b[38;5;124m\"\u001b[39m\u001b[38;5;124m=\u001b[39m\u001b[38;5;124m\"\u001b[39m \u001b[38;5;241m*\u001b[39m \u001b[38;5;241m16\u001b[39m)\n\u001b[1;32m    113\u001b[0m df_dict \u001b[38;5;241m=\u001b[39m {}\n\u001b[0;32m--> 115\u001b[0m \u001b[38;5;28;01mfor\u001b[39;00m action \u001b[38;5;129;01min\u001b[39;00m \u001b[43mos\u001b[49m\u001b[38;5;241;43m.\u001b[39;49m\u001b[43mlistdir\u001b[49m\u001b[43m(\u001b[49m\u001b[43mroot_path\u001b[49m\u001b[43m)\u001b[49m:\n\u001b[1;32m    116\u001b[0m     action_name \u001b[38;5;241m=\u001b[39m action[\u001b[38;5;241m1\u001b[39m:]\n\u001b[1;32m    118\u001b[0m     \u001b[38;5;28;01mfor\u001b[39;00m user \u001b[38;5;129;01min\u001b[39;00m os\u001b[38;5;241m.\u001b[39mlistdir(os\u001b[38;5;241m.\u001b[39mpath\u001b[38;5;241m.\u001b[39mjoin(root_path,action)):\n",
      "\u001b[0;31mFileNotFoundError\u001b[0m: [Errno 2] No such file or directory: '../datasets/DSADS_Dataset'"
     ]
    }
   ],
   "source": [
    "exp.train()"
   ]
  }
 ],
 "metadata": {
  "kernelspec": {
   "display_name": ".venv",
   "language": "python",
   "name": "python3"
  },
  "language_info": {
   "codemirror_mode": {
    "name": "ipython",
    "version": 3
   },
   "file_extension": ".py",
   "mimetype": "text/x-python",
   "name": "python",
   "nbconvert_exporter": "python",
   "pygments_lexer": "ipython3",
   "version": "3.11.7"
  }
 },
 "nbformat": 4,
 "nbformat_minor": 2
}
