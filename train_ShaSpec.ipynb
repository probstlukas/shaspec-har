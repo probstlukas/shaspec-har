{
 "cells": [
  {
   "cell_type": "code",
   "execution_count": 1,
   "metadata": {},
   "outputs": [],
   "source": [
    "import warnings\n",
    "warnings.filterwarnings(\"ignore\")\n",
    "\n",
    "from experiment import Exp\n",
    "\n",
    "import torch\n",
    "import yaml\n",
    "import os"
   ]
  },
  {
   "cell_type": "code",
   "execution_count": 2,
   "metadata": {},
   "outputs": [],
   "source": [
    "### Parameter for training\n",
    "\n",
    "class dotdict(dict):\n",
    "    \"\"\"dot.notation access to dictionary attributes\"\"\"\n",
    "    __getattr__ = dict.get\n",
    "    __setattr__ = dict.__setitem__\n",
    "    __delattr__ = dict.__delitem__\n",
    "\n",
    "args = dotdict()   \n",
    "\n",
    "args.to_save_path     = \"../Run_logs\"           \n",
    "args.window_save_path = \"../Sliding_window\"\n",
    "args.root_path        = \"../datasets\"\n",
    "\n",
    "args.drop_transition  = False\n",
    "# Nomalization of the data, depends on dataset!\n",
    "args.datanorm_type    = \"standardization\" # None ,\"standardization\", \"minmax\"\n",
    "\n",
    "args.batch_size       = 32 # Reduce if not enough graphic memory\n",
    "args.shuffle          = True # Give NN more variety to learn\n",
    "args.drop_last        = True # Drop last batch if smaller than batch size\n",
    "args.train_vali_quote = 0.90 # 90% training, 10% validation                     \n",
    "\n",
    "# Training setting \n",
    "args.train_epochs            = 60\n",
    "\n",
    "# According to ShaSpec paper\n",
    "args.learning_rate           = 0.001 # 10^(-3)\n",
    "args.learning_rate_patience  = 20 # Reduce learning rate every 20 epochs\n",
    "args.learning_rate_factor    = 0.1 # Reduce learning rate by 10%\n",
    "\n",
    "args.early_stop_patience     = 15 # Stop after 15 epochs without improvement\n",
    "\n",
    "args.use_gpu                 = True if torch.cuda.is_available() else False\n",
    "args.gpu                     = 0 # Use first GPU\n",
    "args.use_multi_gpu           = False # Use multiple GPUs\n",
    "\n",
    "args.optimizer               = \"Adam\"\n",
    "args.criterion               = \"CrossEntropy\""
   ]
  },
  {
   "cell_type": "code",
   "execution_count": 3,
   "metadata": {},
   "outputs": [],
   "source": [
    "# Get content of folder args.window_save_path\n",
    "files = os.listdir(args.window_save_path)"
   ]
  },
  {
   "cell_type": "code",
   "execution_count": 7,
   "metadata": {},
   "outputs": [],
   "source": [
    "### Parameter for data\n",
    "\n",
    "args.seed                             = 1 # Seed for reproducibility\n",
    "\n",
    "args.data_name                        = \"dsads\"\n",
    "\n",
    "args.pos_select       = None\n",
    "args.sensor_select    = None\n",
    "\n",
    "args.exp_mode            = \"LOCV\"\n",
    "    \n",
    "config_file = open('configs/data.yaml', mode='r')\n",
    "data_config = yaml.load(config_file, Loader=yaml.FullLoader)\n",
    "config = data_config[args.data_name]\n",
    "\n",
    "args.root_path       = os.path.join(args.root_path,config[\"filename\"])\n",
    "args.sampling_freq   = config[\"sampling_freq\"]\n",
    "args.num_classes     =  config[\"num_classes\"]\n",
    "args.num_modalities  =  config[\"num_modalities\"]\n",
    "args.miss_rates       =  config[\"miss_rates\"]\n",
    "window_seconds       = config[\"window_seconds\"]\n",
    "args.windowsize      =   int(window_seconds * args.sampling_freq) \n",
    "args.input_length    =  args.windowsize\n",
    "# Input information\n",
    "# args.c_in            =  config[\"num_channels\"]\n",
    "# For ShaSpec we want the number of channels per modality\n",
    "args.c_in    =  config[\"num_channels\"] // args.num_modalities\n",
    "args.f_in    = 1"
   ]
  },
  {
   "cell_type": "code",
   "execution_count": 8,
   "metadata": {},
   "outputs": [
    {
     "name": "stdout",
     "output_type": "stream",
     "text": [
      "Use CPU\n",
      "================  ShaSpec Model Configuration  ================\n",
      "Number of total modalities:  5\n",
      "Selected miss rate:  0.6\n",
      "Number of available modalities:  2\n",
      "Ablate shared encoder:  True\n",
      "Ablate missing modality features:  False\n",
      "Build the ShaSpec model!\n",
      "Done!\n",
      "Parameter: 325909\n",
      "Set the seed as:  1\n"
     ]
    }
   ],
   "source": [
    "### Parameter for the model\n",
    "\n",
    "args.model_type = \"shaspec\"\n",
    "\n",
    "args.miss_rate = args.miss_rates[3]\n",
    "\n",
    "args.activation = \"ReLU\"\n",
    "args.shared_encoder_type = \"concatenated\"\n",
    "\n",
    "# Ablation studies\n",
    "args.ablate_shared_encoder = True\n",
    "args.ablate_missing_modality_features = False\n",
    "\n",
    "exp = Exp(args)"
   ]
  },
  {
   "cell_type": "code",
   "execution_count": 9,
   "metadata": {},
   "outputs": [
    {
     "data": {
      "text/plain": [
       "model_builder(\n",
       "  (model): ShaSpec(\n",
       "    (specific_encoders): ModuleList(\n",
       "      (0-1): 2 x SpecificEncoder(\n",
       "        (be): BaseEncoder(\n",
       "          (conv_layers): Sequential(\n",
       "            (0): Conv2d(1, 64, kernel_size=(5, 1), stride=(2, 1))\n",
       "            (1): ReLU()\n",
       "            (2): Conv2d(64, 64, kernel_size=(5, 1), stride=(2, 1))\n",
       "            (3): ReLU()\n",
       "            (4): Conv2d(64, 64, kernel_size=(5, 1), stride=(2, 1))\n",
       "            (5): ReLU()\n",
       "            (6): Conv2d(64, 64, kernel_size=(5, 1), stride=(2, 1))\n",
       "            (7): ReLU()\n",
       "          )\n",
       "          (sa): SelfAttention(\n",
       "            (query): Conv1d(64, 8, kernel_size=(1,), stride=(1,), bias=False)\n",
       "            (key): Conv1d(64, 8, kernel_size=(1,), stride=(1,), bias=False)\n",
       "            (value): Conv1d(64, 64, kernel_size=(1,), stride=(1,), bias=False)\n",
       "          )\n",
       "          (fc_fusion): Linear(in_features=320, out_features=128, bias=True)\n",
       "        )\n",
       "      )\n",
       "    )\n",
       "    (missing_modality_feature_generation): MissingModalityFeatureGeneration()\n",
       "    (decoder): Decoder(\n",
       "      (flatten): Flatten(start_dim=1, end_dim=-1)\n",
       "      (fc_layer): Linear(in_features=5760, out_features=19, bias=True)\n",
       "    )\n",
       "  )\n",
       ")"
      ]
     },
     "execution_count": 9,
     "metadata": {},
     "output_type": "execute_result"
    }
   ],
   "source": [
    "exp.model"
   ]
  },
  {
   "cell_type": "code",
   "execution_count": 11,
   "metadata": {},
   "outputs": [],
   "source": [
    "# exp.train()"
   ]
  }
 ],
 "metadata": {
  "kernelspec": {
   "display_name": ".venv",
   "language": "python",
   "name": "python3"
  },
  "language_info": {
   "codemirror_mode": {
    "name": "ipython",
    "version": 3
   },
   "file_extension": ".py",
   "mimetype": "text/x-python",
   "name": "python",
   "nbconvert_exporter": "python",
   "pygments_lexer": "ipython3",
   "version": "3.11.7"
  }
 },
 "nbformat": 4,
 "nbformat_minor": 2
}
