{
 "cells": [
  {
   "cell_type": "code",
   "execution_count": 1,
   "metadata": {},
   "outputs": [
    {
     "name": "stdout",
     "output_type": "stream",
     "text": [
      "================  ShaSpec Model Configuration  ================\n",
      "Number of total modalities:  5\n",
      "Selected miss rate:  0.0\n",
      "Number of available modalities:  5\n",
      "Ablate shared encoder:  False\n",
      "Ablate missing modality features:  True\n",
      "Shape of available modalities:  torch.Size([128, 1, 125, 9])\n",
      "Shape of concatenated inputs:  torch.Size([128, 1, 125, 45])\n"
     ]
    }
   ],
   "source": [
    "from models.ShaSpec import  ShaSpec\n",
    "import torch\n",
    "import yaml\n",
    "from math import ceil\n",
    "import numpy as np\n",
    "\n",
    "config_file = open('configs/model.yaml', mode='r')\n",
    "config = yaml.load(config_file, Loader=yaml.FullLoader)[\"shaspec\"]\n",
    "\n",
    "# Load the configuration\n",
    "filter_num = config['filter_num']\n",
    "filter_size = config['filter_size']\n",
    "sa_div = config['sa_div']\n",
    "\n",
    "# Parameter for the model\n",
    "activation = \"ReLU\"\n",
    "shared_encoder_type = \"concatenated\"\n",
    "\n",
    "# Craft exemplary dataset for one subject (similar to DSADS)\n",
    "num_modalities = 5\n",
    "num_classes = 19\n",
    "num_of_sensor_channels = 9\n",
    "miss_rate = 0.0\n",
    "\n",
    "modalities_to_omit = ceil(miss_rate * num_modalities)\n",
    "missing_indices = np.random.choice(num_modalities, modalities_to_omit, replace=False)\n",
    "\n",
    "ablate_shared_encoder = False\n",
    "ablate_missing_modality_features = True\n",
    "\n",
    "# Dummy input for each modality\n",
    "# B F T C\n",
    "input = (128, 1, 125, num_of_sensor_channels)  \n",
    "dummy_inputs = [torch.randn(input) for _ in range(num_modalities)]\n",
    "\n",
    "shaspec_model = ShaSpec(input, \n",
    "                        num_modalities,\n",
    "                        miss_rate,\n",
    "                        num_classes, \n",
    "                        activation, \n",
    "                        shared_encoder_type,\n",
    "                        ablate_shared_encoder,\n",
    "                        ablate_missing_modality_features,\n",
    "                        config\n",
    "                        )\n",
    "\n",
    "# Forward pass with the dummy inputs and missing_indices\n",
    "output = shaspec_model(dummy_inputs, missing_indices)\n"
   ]
  }
 ],
 "metadata": {
  "kernelspec": {
   "display_name": ".venv",
   "language": "python",
   "name": "python3"
  },
  "language_info": {
   "codemirror_mode": {
    "name": "ipython",
    "version": 3
   },
   "file_extension": ".py",
   "mimetype": "text/x-python",
   "name": "python",
   "nbconvert_exporter": "python",
   "pygments_lexer": "ipython3",
   "version": "3.11.7"
  }
 },
 "nbformat": 4,
 "nbformat_minor": 2
}
