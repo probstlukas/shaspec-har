{
 "cells": [
  {
   "cell_type": "code",
   "execution_count": 6,
   "metadata": {},
   "outputs": [
    {
     "name": "stdout",
     "output_type": "stream",
     "text": [
      "[0 1 2]\n",
      "================  ShaSpec Model Configuration  ================\n",
      "Number of total modalities:  5\n",
      "Selected miss rate:  0.6\n",
      "Number of available modalities:  2\n",
      "Ablate shared encoder:  False\n",
      "Ablate missing modality features:  False\n",
      "PREDICTION HERE\n",
      "tensor([[-0.0396, -0.0113,  0.0155,  ...,  0.0159,  0.0610, -0.0075],\n",
      "        [-0.0279, -0.0027,  0.0063,  ...,  0.0104,  0.0623, -0.0192],\n",
      "        [-0.0312, -0.0081,  0.0055,  ...,  0.0152,  0.0502, -0.0109],\n",
      "        ...,\n",
      "        [-0.0325, -0.0057,  0.0090,  ...,  0.0153,  0.0596, -0.0051],\n",
      "        [-0.0351, -0.0102,  0.0032,  ...,  0.0061,  0.0551, -0.0162],\n",
      "        [-0.0373, -0.0103,  0.0032,  ...,  0.0099,  0.0682, -0.0149]],\n",
      "       grad_fn=<AddmmBackward0>)\n",
      "torch.Size([64, 19])\n"
     ]
    }
   ],
   "source": [
    "from models.ShaSpec import  ShaSpec\n",
    "import torch\n",
    "import yaml\n",
    "from math import ceil\n",
    "import numpy as np\n",
    "\n",
    "config_file = open('configs/model.yaml', mode='r')\n",
    "config = yaml.load(config_file, Loader=yaml.FullLoader)[\"shaspec\"]\n",
    "\n",
    "# Load the configuration\n",
    "filter_num = config['filter_num']\n",
    "filter_size = config['filter_size']\n",
    "sa_div = config['sa_div']\n",
    "\n",
    "# Parameter for the model\n",
    "activation = \"ReLU\"\n",
    "shared_encoder_type = \"concatenated\"\n",
    "\n",
    "# Craft exemplary dataset for one subject (similar to DSADS)\n",
    "num_modalities = 5\n",
    "num_classes = 19\n",
    "num_of_sensor_channels = 9\n",
    "miss_rate = 0.6\n",
    "\n",
    "modalities_to_omit = ceil(miss_rate * num_modalities)\n",
    "missing_indices = np.random.choice(num_modalities, modalities_to_omit, replace=False)\n",
    "\n",
    "print(missing_indices)\n",
    "\n",
    "ablate_shared_encoder = False\n",
    "ablate_missing_modality_features = False\n",
    "\n",
    "# Dummy input for each modality\n",
    "# B F T C\n",
    "input = (64, 1, 125, num_of_sensor_channels)  \n",
    "dummy_inputs = [torch.randn(input) for _ in range(num_modalities)]\n",
    "\n",
    "shaspec_model = ShaSpec(input, \n",
    "                        num_modalities,\n",
    "                        miss_rate,\n",
    "                        num_classes, \n",
    "                        activation, \n",
    "                        shared_encoder_type,\n",
    "                        ablate_shared_encoder,\n",
    "                        ablate_missing_modality_features,\n",
    "                        config\n",
    "                        )\n",
    "\n",
    "# Forward pass with the dummy inputs and missing_indices\n",
    "output = shaspec_model(dummy_inputs, missing_indices)\n"
   ]
  }
 ],
 "metadata": {
  "kernelspec": {
   "display_name": ".venv",
   "language": "python",
   "name": "python3"
  },
  "language_info": {
   "codemirror_mode": {
    "name": "ipython",
    "version": 3
   },
   "file_extension": ".py",
   "mimetype": "text/x-python",
   "name": "python",
   "nbconvert_exporter": "python",
   "pygments_lexer": "ipython3",
   "version": "3.10.12"
  }
 },
 "nbformat": 4,
 "nbformat_minor": 2
}
