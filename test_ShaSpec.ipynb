{
 "cells": [
  {
   "cell_type": "code",
   "execution_count": 4,
   "metadata": {},
   "outputs": [
    {
     "name": "stdout",
     "output_type": "stream",
     "text": [
      "[1 2 0]\n",
      "================  ShaSpec Model Configuration  ================\n",
      "Number of total modalities:  5\n",
      "Selected miss rate:  0.6\n",
      "Number of available modalities:  2\n",
      "Ablate shared encoder:  False\n",
      "Ablate missing modality features:  False\n",
      "PREDICTION HERE\n",
      "tensor([[ 0.0263, -0.0242, -0.0382,  ..., -0.0016, -0.0026,  0.0090],\n",
      "        [ 0.0284, -0.0247, -0.0423,  ..., -0.0024, -0.0016,  0.0053],\n",
      "        [ 0.0269, -0.0224, -0.0332,  ...,  0.0059, -0.0031,  0.0073],\n",
      "        ...,\n",
      "        [ 0.0251, -0.0201, -0.0385,  ..., -0.0005, -0.0068,  0.0064],\n",
      "        [ 0.0297, -0.0269, -0.0362,  ...,  0.0016, -0.0080,  0.0115],\n",
      "        [ 0.0262, -0.0204, -0.0331,  ...,  0.0002, -0.0015,  0.0076]],\n",
      "       grad_fn=<AddmmBackward0>)\n",
      "torch.Size([64, 19])\n"
     ]
    }
   ],
   "source": [
    "from models.ShaSpec import  ShaSpec\n",
    "import torch\n",
    "import yaml\n",
    "from math import ceil\n",
    "import numpy as np\n",
    "\n",
    "config_file = open('configs/model.yaml', mode='r')\n",
    "config = yaml.load(config_file, Loader=yaml.FullLoader)[\"shaspec\"]\n",
    "\n",
    "# Load the configuration\n",
    "filter_num = config['filter_num']\n",
    "filter_size = config['filter_size']\n",
    "sa_div = config['sa_div']\n",
    "\n",
    "# Parameter for the model\n",
    "activation = \"ReLU\"\n",
    "shared_encoder_type = \"concatenated\"\n",
    "\n",
    "# Craft exemplary dataset for one subject (similar to DSADS)\n",
    "num_modalities = 5\n",
    "num_classes = 19\n",
    "num_of_sensor_channels = 9\n",
    "miss_rate = 0.6\n",
    "\n",
    "modalities_to_omit = ceil(miss_rate * num_modalities)\n",
    "missing_indices = np.random.choice(num_modalities, modalities_to_omit, replace=False)\n",
    "\n",
    "print(missing_indices)\n",
    "\n",
    "ablate_shared_encoder = False\n",
    "ablate_missing_modality_features = False\n",
    "\n",
    "# Dummy input for each modality\n",
    "# B F T C\n",
    "input = (64, 1, 125, num_of_sensor_channels)  \n",
    "dummy_inputs = [torch.randn(input) for _ in range(num_modalities)]\n",
    "\n",
    "shaspec_model = ShaSpec(input, \n",
    "                        num_modalities,\n",
    "                        miss_rate,\n",
    "                        num_classes, \n",
    "                        activation, \n",
    "                        shared_encoder_type,\n",
    "                        ablate_shared_encoder,\n",
    "                        ablate_missing_modality_features,\n",
    "                        config\n",
    "                        )\n",
    "\n",
    "# Forward pass with the dummy inputs and missing_indices\n",
    "output = shaspec_model(dummy_inputs, missing_indices)\n"
   ]
  }
 ],
 "metadata": {
  "kernelspec": {
   "display_name": ".venv",
   "language": "python",
   "name": "python3"
  },
  "language_info": {
   "codemirror_mode": {
    "name": "ipython",
    "version": 3
   },
   "file_extension": ".py",
   "mimetype": "text/x-python",
   "name": "python",
   "nbconvert_exporter": "python",
   "pygments_lexer": "ipython3",
   "version": "3.10.12"
  }
 },
 "nbformat": 4,
 "nbformat_minor": 2
}
