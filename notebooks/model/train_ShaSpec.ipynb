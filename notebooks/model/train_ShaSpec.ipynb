{
 "cells": [
  {
   "cell_type": "code",
   "execution_count": 1,
   "metadata": {},
   "outputs": [],
   "source": [
    "import warnings\n",
    "warnings.filterwarnings(\"ignore\")\n",
    "\n",
    "import sys\n",
    "sys.path.append(\"../../\")\n",
    "from experiment import Exp\n",
    "\n",
    "from dataloaders import data_set,data_dict\n",
    "import torch\n",
    "import yaml\n",
    "import os\n",
    "\n",
    "from torch.optim import Adam"
   ]
  },
  {
   "cell_type": "code",
   "execution_count": 2,
   "metadata": {},
   "outputs": [],
   "source": [
    "### Parameter for training\n",
    "\n",
    "class dotdict(dict):\n",
    "    \"\"\"dot.notation access to dictionary attributes\"\"\"\n",
    "    __getattr__ = dict.get\n",
    "    __setattr__ = dict.__setitem__\n",
    "    __delattr__ = dict.__delitem__\n",
    "\n",
    "args = dotdict()   \n",
    "\n",
    "args.to_save_path     = \"/home/lukasprobst/Documents/Bachelorarbeit/Run_logs\"           \n",
    "args.freq_save_path   = \"/home/lukasprobst/Documents/Bachelorarbeit/Freq_data\"\n",
    "args.window_save_path = \"/home/lukasprobst/Documents/Bachelorarbeit/Sliding_window\"\n",
    "args.root_path        = \"/home/lukasprobst/Documents/Bachelorarbeit/datasets\"\n",
    "\n",
    "args.drop_transition  = False\n",
    "# Nomalization of the data, depends on dataset!\n",
    "args.datanorm_type    = \"standardization\" # None ,\"standardization\", \"minmax\"\n",
    "\n",
    "args.batch_size       = 64 # Reduce if not enough graphic memory\n",
    "args.shuffle          = True # Give NN more variety to learn\n",
    "args.drop_last        = True # Drop last batch if smaller than batch size\n",
    "args.train_vali_quote = 0.90 # 90% training, 10% validation                     \n",
    "\n",
    "# training setting \n",
    "args.train_epochs            = 60\n",
    "\n",
    "args.learning_rate           = 0.001 # 10^(-3)\n",
    "args.learning_rate_patience  = 20 # Reduce learning rate every 20 epochs\n",
    "args.learning_rate_factor    = 0.1 # Reduce learning rate by 10%\n",
    "\n",
    "args.early_stop_patience     = 15 # Stop after 15 epochs without improvement\n",
    "\n",
    "args.use_gpu                 = True if torch.cuda.is_available() else False\n",
    "args.gpu                     = 0 # Use first GPU\n",
    "args.use_multi_gpu           = False # Use multiple GPUs\n",
    "\n",
    "args.optimizer               = \"Adam\"\n",
    "args.criterion               = \"CrossEntropy\"\n",
    "\n",
    "# From ShaSpec paper:\n",
    "# - 60 epochs\n",
    "# - batch norm and dropout\n",
    "# - adam optimizer with 10^(-2) weight decay\n",
    "# - initial learning rate 10^(-3) and reduced by 10% every 20 epochs."
   ]
  },
  {
   "cell_type": "code",
   "execution_count": 3,
   "metadata": {},
   "outputs": [],
   "source": [
    "# Get content of folder args.window_save_path\n",
    "files = os.listdir(args.window_save_path)"
   ]
  },
  {
   "cell_type": "code",
   "execution_count": 4,
   "metadata": {},
   "outputs": [
    {
     "name": "stdout",
     "output_type": "stream",
     "text": [
      "9\n"
     ]
    }
   ],
   "source": [
    "### Parameter for data\n",
    "\n",
    "args.seed                             = 2 # Seed for reproducibility\n",
    "\n",
    "args.data_name                        =  \"dsads\"\n",
    "\n",
    "# Wavelet calculates frequence parameters from time series data, don't need that\n",
    "args.wavelet_filtering                = False\n",
    "args.wavelet_filtering_regularization = False\n",
    "args.wavelet_filtering_finetuning     = False\n",
    "args.wavelet_filtering_finetuning_percent = 0.5\n",
    "args.wavelet_filtering_learnable      = False\n",
    "args.wavelet_filtering_layernorm      = False\n",
    "\n",
    "args.regulatization_tradeoff          = 0\n",
    "args.number_wavelet_filtering         = 6\n",
    "\n",
    "# Augmentation difference\n",
    "args.difference          =  False\n",
    "\n",
    "# Augmentation filtering\n",
    "args.filtering           =  False\n",
    "\n",
    "# Augmentation  magnitude\n",
    "args.magnitude           =  False\n",
    "args.weighted_sampler    = False\n",
    "\n",
    "# MIXUP\n",
    "args.mixup_probability  = 0.5\n",
    "args.mixup_alpha  = 0.5\n",
    "\n",
    "# Random Augmentation\n",
    "args.random_augmentation_prob = 0.5\n",
    "args.random_augmentation_config = {\"jitter\":True,\n",
    "                                   \"moving_average\":True,\n",
    "                                   \"magnitude_scaling\":True,\n",
    "                                   \"magnitude_warp\":True,\n",
    "                                   \"magnitude_shift\":True,\n",
    "                                   \"time_warp\":True,\n",
    "                                   \"window_warp\":True,\n",
    "                                   \"window_slice\":True,\n",
    "                                   \"random_sampling\":True,\n",
    "                                   \"slope_adding\":True\n",
    "                                   }\n",
    "random_augmentation_nr = 0\n",
    "for key in args.random_augmentation_config.keys():\n",
    "    if args.random_augmentation_config[key]:\n",
    "        random_augmentation_nr = random_augmentation_nr+1\n",
    "args.random_augmentation_nr = random_augmentation_nr\n",
    "args.max_aug = 3\n",
    "\n",
    "args.pos_select       = None\n",
    "args.sensor_select    = None\n",
    "\n",
    "args.representation_type = \"time\"\n",
    "args.exp_mode            = \"LOCV\"\n",
    "if args.data_name      ==  \"skodar\":\n",
    "    args.exp_mode            = \"SOCV\"\n",
    "    \n",
    "config_file = open('../../configs/data.yaml', mode='r')\n",
    "data_config = yaml.load(config_file, Loader=yaml.FullLoader)\n",
    "config = data_config[args.data_name]\n",
    "\n",
    "args.root_path       = os.path.join(args.root_path,config[\"filename\"])\n",
    "args.sampling_freq   = config[\"sampling_freq\"]\n",
    "args.classes_num     =  config[\"num_classes\"]\n",
    "args.num_modalities  =  config[\"num_modalities\"]\n",
    "args.miss_rates       =  config[\"miss_rates\"]\n",
    "window_seconds       = config[\"window_seconds\"]\n",
    "print\n",
    "args.windowsize      =   int(window_seconds * args.sampling_freq) \n",
    "args.input_length    =  args.windowsize\n",
    "# Input information\n",
    "# For ShaSpec we want the number of channels per modality\n",
    "args.c_in            =  config[\"num_channels\"] // args.num_modalities\n",
    "\n",
    "print(args.c_in )\n",
    "if args.difference:\n",
    "    args.c_in  = args.c_in * 2\n",
    "    print(args.c_in )\n",
    "if args.filtering:\n",
    "    for col in config[\"sensors\"]:\n",
    "        if \"acc\" in col:\n",
    "            args.c_in = args.c_in+1\n",
    "            print(args.c_in )\n",
    "\n",
    "if args.wavelet_filtering :\n",
    "    if args.windowsize%2==1:\n",
    "        N_ds = int(torch.log2(torch.tensor(args.windowsize-1)).floor()) - 2\n",
    "    else:\n",
    "        N_ds = int(torch.log2(torch.tensor(args.windowsize)).floor()) - 2\n",
    "\n",
    "    args.f_in            =  args.number_wavelet_filtering*N_ds+1\n",
    "else:\n",
    "    args.f_in            =  1\n",
    "            "
   ]
  },
  {
   "cell_type": "code",
   "execution_count": 5,
   "metadata": {},
   "outputs": [
    {
     "data": {
      "text/plain": [
       "9"
      ]
     },
     "execution_count": 5,
     "metadata": {},
     "output_type": "execute_result"
    }
   ],
   "source": [
    "args.c_in"
   ]
  },
  {
   "cell_type": "code",
   "execution_count": 6,
   "metadata": {},
   "outputs": [
    {
     "data": {
      "text/plain": [
       "{'filename': 'DSADS_Dataset',\n",
       " 'sampling_freq': 25,\n",
       " 'num_classes': 19,\n",
       " 'num_channels': 45,\n",
       " 'num_modalities': 5,\n",
       " 'miss_rates': [0, 0.2, 0.4, 0.6],\n",
       " 'window_seconds': 5,\n",
       " 'sensors': ['acc_x_T',\n",
       "  'acc_y_T',\n",
       "  'acc_z_T',\n",
       "  'gyro_x_T',\n",
       "  'gyro_y_T',\n",
       "  'gyro_z_T',\n",
       "  'mag_x_T',\n",
       "  'mag_y_T',\n",
       "  'mag_z_T',\n",
       "  'acc_x_RA',\n",
       "  'acc_y_RA',\n",
       "  'acc_z_RA',\n",
       "  'gyro_x_RA',\n",
       "  'gyro_y_RA',\n",
       "  'gyro_z_RA',\n",
       "  'mag_x_RA',\n",
       "  'mag_y_RA',\n",
       "  'mag_z_RA',\n",
       "  'acc_x_LA',\n",
       "  'acc_y_LA',\n",
       "  'acc_z_LA',\n",
       "  'gyro_x_LA',\n",
       "  'gyro_y_LA',\n",
       "  'gyro_z_LA',\n",
       "  'mag_x_LA',\n",
       "  'mag_y_LA',\n",
       "  'mag_z_LA',\n",
       "  'acc_x_RL',\n",
       "  'acc_y_RL',\n",
       "  'acc_z_RL',\n",
       "  'gyro_x_RL',\n",
       "  'gyro_y_RL',\n",
       "  'gyro_z_RL',\n",
       "  'mag_x_RL',\n",
       "  'mag_y_RL',\n",
       "  'mag_z_RL',\n",
       "  'acc_x_LL',\n",
       "  'acc_y_LL',\n",
       "  'acc_z_LL',\n",
       "  'gyro_x_LL',\n",
       "  'gyro_y_LL',\n",
       "  'gyro_z_LL',\n",
       "  'mag_x_LL',\n",
       "  'mag_y_LL',\n",
       "  'mag_z_LL']}"
      ]
     },
     "execution_count": 6,
     "metadata": {},
     "output_type": "execute_result"
    }
   ],
   "source": [
    "data_config[args.data_name]"
   ]
  },
  {
   "cell_type": "code",
   "execution_count": 7,
   "metadata": {},
   "outputs": [
    {
     "data": {
      "text/plain": [
       "19"
      ]
     },
     "execution_count": 7,
     "metadata": {},
     "output_type": "execute_result"
    }
   ],
   "source": [
    "args.classes_num"
   ]
  },
  {
   "cell_type": "code",
   "execution_count": 8,
   "metadata": {},
   "outputs": [
    {
     "name": "stdout",
     "output_type": "stream",
     "text": [
      "Use GPU: cuda:0\n",
      "Build the ShaSpec model!\n",
      "Done!\n",
      "Parameter : 366517\n",
      "Set the seed as :  2\n"
     ]
    }
   ],
   "source": [
    "### Parameter for the model\n",
    "\n",
    "args.model_type = \"shaspec\"\n",
    "\n",
    "args.activation = \"ReLU\"\n",
    "args.decoder_type = \"FC\"\n",
    "args.shared_encoder_type = \"concatenated\"\n",
    "\n",
    "exp = Exp(args)"
   ]
  },
  {
   "cell_type": "code",
   "execution_count": 9,
   "metadata": {},
   "outputs": [
    {
     "data": {
      "text/plain": [
       "model_builder(\n",
       "  (model): ShaSpec(\n",
       "    (specific_encoders): ModuleList(\n",
       "      (0-4): 5 x SpecificEncoder(\n",
       "        (conv_layers): Sequential(\n",
       "          (0): Conv2d(1, 42, kernel_size=(5, 1), stride=(2, 1))\n",
       "          (1): ReLU()\n",
       "          (2): Conv2d(42, 42, kernel_size=(5, 1), stride=(2, 1))\n",
       "          (3): ReLU()\n",
       "          (4): Conv2d(42, 42, kernel_size=(5, 1), stride=(2, 1))\n",
       "          (5): ReLU()\n",
       "          (6): Conv2d(42, 42, kernel_size=(5, 1), stride=(2, 1))\n",
       "          (7): ReLU()\n",
       "        )\n",
       "        (sa): SelfAttention(\n",
       "          (query): Conv1d(42, 5, kernel_size=(1,), stride=(1,), bias=False)\n",
       "          (key): Conv1d(42, 5, kernel_size=(1,), stride=(1,), bias=False)\n",
       "          (value): Conv1d(42, 42, kernel_size=(1,), stride=(1,), bias=False)\n",
       "        )\n",
       "        (fc_fusion): Linear(in_features=210, out_features=84, bias=True)\n",
       "      )\n",
       "    )\n",
       "    (shared_encoder): SharedEncoder(\n",
       "      (conv_layers): Sequential(\n",
       "        (0): Conv2d(1, 42, kernel_size=(5, 1), stride=(2, 1))\n",
       "        (1): ReLU()\n",
       "        (2): Conv2d(42, 42, kernel_size=(5, 1), stride=(2, 1))\n",
       "        (3): ReLU()\n",
       "        (4): Conv2d(42, 42, kernel_size=(5, 1), stride=(2, 1))\n",
       "        (5): ReLU()\n",
       "        (6): Conv2d(42, 42, kernel_size=(5, 1), stride=(2, 1))\n",
       "        (7): ReLU()\n",
       "      )\n",
       "      (sa): SelfAttention(\n",
       "        (query): Conv1d(42, 5, kernel_size=(1,), stride=(1,), bias=False)\n",
       "        (key): Conv1d(42, 5, kernel_size=(1,), stride=(1,), bias=False)\n",
       "        (value): Conv1d(42, 42, kernel_size=(1,), stride=(1,), bias=False)\n",
       "      )\n",
       "      (fc_fusion): Linear(in_features=210, out_features=84, bias=True)\n",
       "    )\n",
       "    (residual_block): ResidualBlock(\n",
       "      (fc_proj): Linear(in_features=168, out_features=84, bias=True)\n",
       "    )\n",
       "    (missing_modality_feature_generation): MissingModalityFeatureGeneration()\n",
       "    (decoder): Decoder(\n",
       "      (flatten): Flatten(start_dim=1, end_dim=-1)\n",
       "      (fc_layer): Linear(in_features=3780, out_features=19, bias=True)\n",
       "    )\n",
       "  )\n",
       ")"
      ]
     },
     "execution_count": 9,
     "metadata": {},
     "output_type": "execute_result"
    }
   ],
   "source": [
    "exp.model"
   ]
  },
  {
   "cell_type": "code",
   "execution_count": 1,
   "metadata": {},
   "outputs": [
    {
     "ename": "NameError",
     "evalue": "name 'exp' is not defined",
     "output_type": "error",
     "traceback": [
      "\u001b[0;31m---------------------------------------------------------------------------\u001b[0m",
      "\u001b[0;31mNameError\u001b[0m                                 Traceback (most recent call last)",
      "Cell \u001b[0;32mIn[1], line 1\u001b[0m\n\u001b[0;32m----> 1\u001b[0m \u001b[43mexp\u001b[49m\u001b[38;5;241m.\u001b[39mtrain()\n",
      "\u001b[0;31mNameError\u001b[0m: name 'exp' is not defined"
     ]
    }
   ],
   "source": [
    "exp.train()"
   ]
  }
 ],
 "metadata": {
  "kernelspec": {
   "display_name": ".venv",
   "language": "python",
   "name": "python3"
  },
  "language_info": {
   "codemirror_mode": {
    "name": "ipython",
    "version": 3
   },
   "file_extension": ".py",
   "mimetype": "text/x-python",
   "name": "python",
   "nbconvert_exporter": "python",
   "pygments_lexer": "ipython3",
   "version": "3.10.12"
  }
 },
 "nbformat": 4,
 "nbformat_minor": 2
}
