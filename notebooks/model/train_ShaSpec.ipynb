{
 "cells": [
  {
   "cell_type": "code",
   "execution_count": 1,
   "metadata": {},
   "outputs": [],
   "source": [
    "import warnings\n",
    "warnings.filterwarnings(\"ignore\")\n",
    "\n",
    "import sys\n",
    "sys.path.append(\"../../\")\n",
    "from experiment import Exp\n",
    "\n",
    "from dataloaders import data_set,data_dict\n",
    "import torch\n",
    "import yaml\n",
    "import os"
   ]
  },
  {
   "cell_type": "code",
   "execution_count": 15,
   "metadata": {},
   "outputs": [],
   "source": [
    "### Parameter for training\n",
    "\n",
    "class dotdict(dict):\n",
    "    \"\"\"dot.notation access to dictionary attributes\"\"\"\n",
    "    __getattr__ = dict.get\n",
    "    __setattr__ = dict.__setitem__\n",
    "    __delattr__ = dict.__delitem__\n",
    "\n",
    "args = dotdict()   \n",
    "\n",
    "args.to_save_path     = \"/home/lukasprobst/Documents/Bachelorarbeit/Run_logs\"           \n",
    "args.freq_save_path   = \"/home/lukasprobst/Documents/Bachelorarbeit/Freq_data\"\n",
    "args.window_save_path = \"/home/lukasprobst/Documents/Bachelorarbeit/Sliding_window\"\n",
    "args.root_path        = \"/home/lukasprobst/Documents/Bachelorarbeit/datasets\"\n",
    "\n",
    "args.drop_transition  = False\n",
    "args.datanorm_type    = \"standardization\" # None ,\"standardization\", \"minmax\"\n",
    "\n",
    "\n",
    "args.batch_size       = 256                                                     \n",
    "args.shuffle          = True\n",
    "args.drop_last        = False\n",
    "args.train_vali_quote = 0.90                                           \n",
    "\n",
    "\n",
    "# training setting \n",
    "args.train_epochs            = 150\n",
    "\n",
    "args.learning_rate           = 0.001  \n",
    "args.learning_rate_patience  = 7\n",
    "args.learning_rate_factor    = 0.1\n",
    "\n",
    "\n",
    "args.early_stop_patience     = 15\n",
    "\n",
    "args.use_gpu                 = True if torch.cuda.is_available() else False\n",
    "args.gpu                     = 0\n",
    "args.use_multi_gpu           = False\n",
    "\n",
    "args.optimizer               = \"Adam\"\n",
    "args.criterion               = \"CrossEntropy\""
   ]
  },
  {
   "cell_type": "code",
   "execution_count": 16,
   "metadata": {},
   "outputs": [],
   "source": [
    "# Get content of folder args.window_save_path\n",
    "files = os.listdir(args.window_save_path)"
   ]
  },
  {
   "cell_type": "code",
   "execution_count": 17,
   "metadata": {},
   "outputs": [
    {
     "name": "stdout",
     "output_type": "stream",
     "text": [
      "45\n",
      "90\n",
      "91\n",
      "92\n",
      "93\n",
      "94\n",
      "95\n",
      "96\n",
      "97\n",
      "98\n",
      "99\n",
      "100\n",
      "101\n",
      "102\n",
      "103\n",
      "104\n",
      "105\n"
     ]
    }
   ],
   "source": [
    "### Parameter for data\n",
    "\n",
    "args.seed                             = 1\n",
    "\n",
    "\n",
    "args.data_name                        =  \"dsads\"\n",
    "\n",
    "# TODO: Remove wavelet filtering?\n",
    "args.wavelet_filtering                = False\n",
    "args.wavelet_filtering_regularization = False\n",
    "args.wavelet_filtering_finetuning     = False\n",
    "args.wavelet_filtering_finetuning_percent = 0.5\n",
    "args.wavelet_filtering_learnable      = False\n",
    "args.wavelet_filtering_layernorm      = False\n",
    "\n",
    "args.regulatization_tradeoff          = 0\n",
    "args.number_wavelet_filtering         = 6\n",
    "\n",
    "\n",
    "# Augmentation difference\n",
    "args.difference          =  True \n",
    "\n",
    "# Augmentation filtering\n",
    "args.filtering           =  True\n",
    "\n",
    "# Augmentation  magnitude\n",
    "args.magnitude           =  False\n",
    "args.weighted_sampler    = False\n",
    "\n",
    "# MIXUP\n",
    "args.mixup_probability  = 0.5\n",
    "args.mixup_alpha  = 0.5\n",
    "\n",
    "\n",
    "# Random Augmentation\n",
    "args.random_augmentation_prob = 0.5\n",
    "args.random_augmentation_config = {\"jitter\":True,\n",
    "                                   \"moving_average\":True,\n",
    "                                   \"magnitude_scaling\":True,\n",
    "                                   \"magnitude_warp\":True,\n",
    "                                   \"magnitude_shift\":True,\n",
    "                                   \"time_warp\":True,\n",
    "                                   \"window_warp\":True,\n",
    "                                   \"window_slice\":True,\n",
    "                                   \"random_sampling\":True,\n",
    "                                   \"slope_adding\":True\n",
    "                                   }\n",
    "random_augmentation_nr = 0\n",
    "for key in args.random_augmentation_config.keys():\n",
    "    if args.random_augmentation_config[key]:\n",
    "        random_augmentation_nr = random_augmentation_nr+1\n",
    "args.random_augmentation_nr = random_augmentation_nr\n",
    "args.max_aug = 3\n",
    "\n",
    "args.pos_select       = None\n",
    "args.sensor_select    = None\n",
    "\n",
    "args.representation_type = \"time\"\n",
    "args.exp_mode            = \"LOCV\"\n",
    "if args.data_name      ==  \"skodar\":\n",
    "    args.exp_mode            = \"SOCV\"\n",
    "    \n",
    "config_file = open('../../configs/data.yaml', mode='r')\n",
    "data_config = yaml.load(config_file, Loader=yaml.FullLoader)\n",
    "config = data_config[args.data_name]\n",
    "\n",
    "args.root_path       = os.path.join(args.root_path,config[\"filename\"])\n",
    "args.sampling_freq   = config[\"sampling_freq\"]\n",
    "args.modalities_num  =  config[\"num_channels\"] # TODO: Craft modalities in datasets. For now modalities = sensor_channels\n",
    "args.classes_num     =  config[\"num_classes\"]\n",
    "window_seconds       = config[\"window_seconds\"]\n",
    "print\n",
    "args.windowsize      =   int(window_seconds * args.sampling_freq) \n",
    "args.input_length    =  args.windowsize\n",
    "# input information\n",
    "args.c_in            =  config[\"num_channels\"]\n",
    "print(args.c_in )\n",
    "if args.difference:\n",
    "    args.c_in  = args.c_in * 2\n",
    "    print(args.c_in )\n",
    "if args.filtering:\n",
    "    for col in config[\"sensors\"]:\n",
    "        if \"acc\" in col:\n",
    "            args.c_in = args.c_in+1\n",
    "            print(args.c_in )\n",
    "\n",
    "if args.wavelet_filtering :\n",
    "    if args.windowsize%2==1:\n",
    "        N_ds = int(torch.log2(torch.tensor(args.windowsize-1)).floor()) - 2\n",
    "    else:\n",
    "        N_ds = int(torch.log2(torch.tensor(args.windowsize)).floor()) - 2\n",
    "\n",
    "    args.f_in            =  args.number_wavelet_filtering*N_ds+1\n",
    "else:\n",
    "    args.f_in            =  1\n",
    "            "
   ]
  },
  {
   "cell_type": "code",
   "execution_count": 18,
   "metadata": {},
   "outputs": [
    {
     "data": {
      "text/plain": [
       "19"
      ]
     },
     "execution_count": 18,
     "metadata": {},
     "output_type": "execute_result"
    }
   ],
   "source": [
    "args.num_classes"
   ]
  },
  {
   "cell_type": "code",
   "execution_count": 19,
   "metadata": {},
   "outputs": [
    {
     "name": "stdout",
     "output_type": "stream",
     "text": [
      "Use GPU: cuda:0\n",
      "Sha Enc input shape:  (1, 1, 125, 630)\n",
      "Build the ShaSpec model!\n",
      "Done!\n",
      "Parameter : 351020\n",
      "Set the seed as :  1\n"
     ]
    }
   ],
   "source": [
    "### Parameter for the model\n",
    "\n",
    "args.model_type = \"shaspec\"\n",
    "\n",
    "args.activation = \"ReLU\"\n",
    "args.decoder_type = \"FC\"\n",
    "args.shared_encoder_type = \"concatenated\"\n",
    "\n",
    "exp = Exp(args)"
   ]
  },
  {
   "cell_type": "code",
   "execution_count": 20,
   "metadata": {},
   "outputs": [
    {
     "data": {
      "text/plain": [
       "model_builder(\n",
       "  (model): ShaSpec(\n",
       "    (specific_encoders): ModuleList(\n",
       "      (0-5): 6 x SpecificEncoder(\n",
       "        (conv1): Conv2d(1, 42, kernel_size=(5, 1), stride=(2, 1))\n",
       "        (conv2): Conv2d(42, 42, kernel_size=(5, 1), stride=(2, 1))\n",
       "        (conv3): Conv2d(42, 42, kernel_size=(5, 1), stride=(2, 1))\n",
       "        (conv4): Conv2d(42, 42, kernel_size=(5, 1), stride=(2, 1))\n",
       "        (activation): ReLU()\n",
       "        (sa): SelfAttention(\n",
       "          (query): Conv1d(42, 5, kernel_size=(1,), stride=(1,), bias=False)\n",
       "          (key): Conv1d(42, 5, kernel_size=(1,), stride=(1,), bias=False)\n",
       "          (value): Conv1d(42, 42, kernel_size=(1,), stride=(1,), bias=False)\n",
       "        )\n",
       "        (fc_fusion): Linear(in_features=210, out_features=84, bias=True)\n",
       "      )\n",
       "    )\n",
       "    (shared_encoder): SharedEncoder(\n",
       "      (conv1): Conv2d(1, 42, kernel_size=(5, 1), stride=(2, 1))\n",
       "      (conv2): Conv2d(42, 42, kernel_size=(5, 1), stride=(2, 1))\n",
       "      (conv3): Conv2d(42, 42, kernel_size=(5, 1), stride=(2, 1))\n",
       "      (conv4): Conv2d(42, 42, kernel_size=(5, 1), stride=(2, 1))\n",
       "      (activation): ReLU()\n",
       "      (sa): SelfAttention(\n",
       "        (query): Conv1d(42, 5, kernel_size=(1,), stride=(1,), bias=False)\n",
       "        (key): Conv1d(42, 5, kernel_size=(1,), stride=(1,), bias=False)\n",
       "        (value): Conv1d(42, 42, kernel_size=(1,), stride=(1,), bias=False)\n",
       "      )\n",
       "      (fc_fusion): Linear(in_features=210, out_features=84, bias=True)\n",
       "    )\n",
       "    (residual_block): ResidualBlock(\n",
       "      (fc_proj): Linear(in_features=168, out_features=84, bias=True)\n",
       "    )\n",
       "    (decoder): Decoder(\n",
       "      (decoder): Linear(in_features=504, out_features=19, bias=True)\n",
       "    )\n",
       "  )\n",
       ")"
      ]
     },
     "execution_count": 20,
     "metadata": {},
     "output_type": "execute_result"
    }
   ],
   "source": [
    "exp.model"
   ]
  },
  {
   "cell_type": "code",
   "execution_count": 21,
   "metadata": {},
   "outputs": [
    {
     "name": "stdout",
     "output_type": "stream",
     "text": [
      " ----------------------- load all the data -------------------\n",
      "Channel Augmentation : Differencing\n",
      "Channel Augmentation : Acc Gyro Filtering\n",
      "-----------------------Sliding file are generated -----------------------\n",
      "-----------------------Sliding file are generated -----------------------\n",
      "================ LOCV Mode ====================\n",
      "================ 8 CV ======================\n",
      "================ the 0 th CV Experiment ================ \n",
      "Leave one Out Experiment : The 1 Part as the test\n",
      "[-] Target sampling weights:  [0.0026178  0.00273224 0.00260417 0.00269542 0.00268097 0.00265957\n",
      " 0.0026178  0.0027027  0.00265252 0.0026455  0.00262467 0.00268097\n",
      " 0.0025974  0.00263852 0.00262467 0.00265252 0.00268097 0.0025974\n",
      " 0.00257069]\n",
      "Train data number :  7182\n",
      "The number of classes is :  19\n",
      "The input_length  is :  125\n",
      "The channel_in is :  105\n",
      "Validation data number :  798\n",
      "Test data number :  1140\n",
      "================ Build the model ================ \n",
      "Sha Enc input shape:  (1, 1, 125, 630)\n",
      "Build the ShaSpec model!\n",
      "-----------------\n"
     ]
    },
    {
     "ename": "",
     "evalue": "",
     "output_type": "error",
     "traceback": [
      "\u001b[1;31mThe Kernel crashed while executing code in the current cell or a previous cell. \n",
      "\u001b[1;31mPlease review the code in the cell(s) to identify a possible cause of the failure. \n",
      "\u001b[1;31mClick <a href='https://aka.ms/vscodeJupyterKernelCrash'>here</a> for more info. \n",
      "\u001b[1;31mView Jupyter <a href='command:jupyter.viewOutput'>log</a> for further details."
     ]
    }
   ],
   "source": [
    "exp.train()"
   ]
  }
 ],
 "metadata": {
  "kernelspec": {
   "display_name": ".venv",
   "language": "python",
   "name": "python3"
  },
  "language_info": {
   "codemirror_mode": {
    "name": "ipython",
    "version": 3
   },
   "file_extension": ".py",
   "mimetype": "text/x-python",
   "name": "python",
   "nbconvert_exporter": "python",
   "pygments_lexer": "ipython3",
   "version": "3.10.12"
  }
 },
 "nbformat": 4,
 "nbformat_minor": 2
}
